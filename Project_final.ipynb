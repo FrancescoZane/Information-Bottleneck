{
 "cells": [
  {
   "cell_type": "markdown",
   "metadata": {},
   "source": [
    "### Libraries"
   ]
  },
  {
   "cell_type": "code",
   "execution_count": 1,
   "metadata": {},
   "outputs": [],
   "source": [
    "import re\n",
    "import pandas as pd\n",
    "import numpy as np\n",
    "import matplotlib.pyplot as plt"
   ]
  },
  {
   "cell_type": "markdown",
   "metadata": {},
   "source": [
    "### Preprocessing"
   ]
  },
  {
   "cell_type": "markdown",
   "metadata": {},
   "source": [
    "Open file"
   ]
  },
  {
   "cell_type": "code",
   "execution_count": 2,
   "metadata": {},
   "outputs": [],
   "source": [
    "def open_file(file_txt):\n",
    "    \n",
    "    with open(file_txt, 'r') as file:\n",
    "        file_contents = file.read()\n",
    "\n",
    "    return file_contents"
   ]
  },
  {
   "cell_type": "code",
   "execution_count": 3,
   "metadata": {},
   "outputs": [],
   "source": [
    "file_M = 'Mariner.txt'\n",
    "text_M = open_file(file_M)\n",
    "\n",
    "file_T = 'Tempest.txt'\n",
    "text_T = open_file(file_T)"
   ]
  },
  {
   "cell_type": "markdown",
   "metadata": {},
   "source": [
    "Clear text and make it lower"
   ]
  },
  {
   "cell_type": "code",
   "execution_count": 4,
   "metadata": {},
   "outputs": [],
   "source": [
    "def clean_text(text):\n",
    "\n",
    "    cleaned_text = re.sub(r'[^\\w\\s]', ' ', text)\n",
    "    cleaned_text = re.sub(r'\\s+', ' ', cleaned_text).strip()\n",
    "    cleaned_text = cleaned_text.lower().split()\n",
    "\n",
    "    return cleaned_text"
   ]
  },
  {
   "cell_type": "code",
   "execution_count": 5,
   "metadata": {},
   "outputs": [],
   "source": [
    "clean_text_M = clean_text(text_M)\n",
    "clean_text_T = clean_text(text_T)\n",
    "\n",
    "# print(clean_text_M)\n",
    "# print(clean_text_T)"
   ]
  },
  {
   "cell_type": "markdown",
   "metadata": {},
   "source": [
    "### Enviromental Statistics"
   ]
  },
  {
   "cell_type": "markdown",
   "metadata": {},
   "source": [
    "In this section we'll calculate:\n",
    " - $p(X)$\n",
    " - $p(Y)$\n",
    " - $p(Y|X)$"
   ]
  },
  {
   "cell_type": "markdown",
   "metadata": {},
   "source": [
    "Convention: When the conditional probability $p(r|s)$ is represented using a matrix, this matrix will have shape $(dim_r, dim_s)$. <br>\n",
    "In this way, we can calculate $p(r,s)=p(r∣s)⋅p(s)$ using matrix operations."
   ]
  },
  {
   "cell_type": "code",
   "execution_count": 6,
   "metadata": {},
   "outputs": [],
   "source": [
    "def unique_and_count(list_words):\n",
    "    output = {}\n",
    "    unique_words = list(set(list_words))\n",
    "\n",
    "    output['Total'] = len(list_words)\n",
    "    output['Unique'] = unique_words\n",
    "    counts = {}\n",
    "    counts_freq = {}\n",
    "\n",
    "    for word in unique_words:\n",
    "        counts[word] = list_words.count(word)\n",
    "        counts_freq[word] = list_words.count(word)/len(list_words)\n",
    "\n",
    "    output['Count'] = counts\n",
    "    output['Count_freq'] = counts_freq\n",
    "\n",
    "    return output   "
   ]
  },
  {
   "cell_type": "code",
   "execution_count": 7,
   "metadata": {},
   "outputs": [],
   "source": [
    "dict_text_M = unique_and_count(clean_text_M)\n",
    "# print('Total number of words in text M:', dict_text_M['Total'])\n",
    "# print('Total number of unique words in text M:',len(dict_text_M['Unique']))\n",
    "# print(dict_text_M['Count'])\n",
    "# print(dict_text_M['Count_freq'], '\\n')\n",
    "\n",
    "dict_text_T = unique_and_count(clean_text_T)\n",
    "# print('Total number of words in text T:', dict_text_M['Total'])\n",
    "# print('Total number of unique words in text T:',len(dict_text_M['Unique']))\n",
    "# print(dict_text_T['Count'])\n",
    "# print(dict_text_T['Count_freq'])"
   ]
  },
  {
   "cell_type": "code",
   "execution_count": 8,
   "metadata": {},
   "outputs": [],
   "source": [
    "complete_list_words = np.array(list(set(dict_text_M['Unique'] + dict_text_T['Unique'])))\n",
    "# len(complete_list_words)\n",
    "# complete_list_words_duplicate = dict_text_M['Unique'] + dict_text_T['Unique']\n",
    "# print(len(dict_text_M['Unique']))\n",
    "# print(len(dict_text_T['Unique']))\n",
    "# print(len(complete_list_words))\n"
   ]
  },
  {
   "cell_type": "code",
   "execution_count": 9,
   "metadata": {},
   "outputs": [
    {
     "data": {
      "text/html": [
       "<div>\n",
       "<style scoped>\n",
       "    .dataframe tbody tr th:only-of-type {\n",
       "        vertical-align: middle;\n",
       "    }\n",
       "\n",
       "    .dataframe tbody tr th {\n",
       "        vertical-align: top;\n",
       "    }\n",
       "\n",
       "    .dataframe thead th {\n",
       "        text-align: right;\n",
       "    }\n",
       "</style>\n",
       "<table border=\"1\" class=\"dataframe\">\n",
       "  <thead>\n",
       "    <tr style=\"text-align: right;\">\n",
       "      <th></th>\n",
       "      <th>Words</th>\n",
       "      <th>Mariner</th>\n",
       "      <th>Tempest</th>\n",
       "      <th>Total</th>\n",
       "    </tr>\n",
       "  </thead>\n",
       "  <tbody>\n",
       "    <tr>\n",
       "      <th>0</th>\n",
       "      <td>trinculo</td>\n",
       "      <td>0.0</td>\n",
       "      <td>62.0</td>\n",
       "      <td>62.0</td>\n",
       "    </tr>\n",
       "    <tr>\n",
       "      <th>1</th>\n",
       "      <td>killed</td>\n",
       "      <td>2.0</td>\n",
       "      <td>1.0</td>\n",
       "      <td>3.0</td>\n",
       "    </tr>\n",
       "    <tr>\n",
       "      <th>2</th>\n",
       "      <td>chain</td>\n",
       "      <td>0.0</td>\n",
       "      <td>1.0</td>\n",
       "      <td>1.0</td>\n",
       "    </tr>\n",
       "    <tr>\n",
       "      <th>3</th>\n",
       "      <td>huge</td>\n",
       "      <td>1.0</td>\n",
       "      <td>1.0</td>\n",
       "      <td>2.0</td>\n",
       "    </tr>\n",
       "    <tr>\n",
       "      <th>4</th>\n",
       "      <td>glass</td>\n",
       "      <td>1.0</td>\n",
       "      <td>1.0</td>\n",
       "      <td>2.0</td>\n",
       "    </tr>\n",
       "    <tr>\n",
       "      <th>...</th>\n",
       "      <td>...</td>\n",
       "      <td>...</td>\n",
       "      <td>...</td>\n",
       "      <td>...</td>\n",
       "    </tr>\n",
       "    <tr>\n",
       "      <th>3560</th>\n",
       "      <td>lazy</td>\n",
       "      <td>0.0</td>\n",
       "      <td>2.0</td>\n",
       "      <td>2.0</td>\n",
       "    </tr>\n",
       "    <tr>\n",
       "      <th>3561</th>\n",
       "      <td>hogshead</td>\n",
       "      <td>0.0</td>\n",
       "      <td>1.0</td>\n",
       "      <td>1.0</td>\n",
       "    </tr>\n",
       "    <tr>\n",
       "      <th>3562</th>\n",
       "      <td>bawling</td>\n",
       "      <td>0.0</td>\n",
       "      <td>1.0</td>\n",
       "      <td>1.0</td>\n",
       "    </tr>\n",
       "    <tr>\n",
       "      <th>3563</th>\n",
       "      <td>refreshing</td>\n",
       "      <td>0.0</td>\n",
       "      <td>1.0</td>\n",
       "      <td>1.0</td>\n",
       "    </tr>\n",
       "    <tr>\n",
       "      <th>3564</th>\n",
       "      <td>ind</td>\n",
       "      <td>0.0</td>\n",
       "      <td>1.0</td>\n",
       "      <td>1.0</td>\n",
       "    </tr>\n",
       "  </tbody>\n",
       "</table>\n",
       "<p>3565 rows × 4 columns</p>\n",
       "</div>"
      ],
      "text/plain": [
       "           Words  Mariner  Tempest  Total\n",
       "0       trinculo      0.0     62.0   62.0\n",
       "1         killed      2.0      1.0    3.0\n",
       "2          chain      0.0      1.0    1.0\n",
       "3           huge      1.0      1.0    2.0\n",
       "4          glass      1.0      1.0    2.0\n",
       "...          ...      ...      ...    ...\n",
       "3560        lazy      0.0      2.0    2.0\n",
       "3561    hogshead      0.0      1.0    1.0\n",
       "3562     bawling      0.0      1.0    1.0\n",
       "3563  refreshing      0.0      1.0    1.0\n",
       "3564         ind      0.0      1.0    1.0\n",
       "\n",
       "[3565 rows x 4 columns]"
      ]
     },
     "execution_count": 9,
     "metadata": {},
     "output_type": "execute_result"
    }
   ],
   "source": [
    "Counts = np.zeros((len(complete_list_words), 3))\n",
    "\n",
    "for i in range(len(complete_list_words)):\n",
    "\n",
    "    word = complete_list_words[i]\n",
    "\n",
    "    if word in dict_text_M['Count']:\n",
    "        Counts[i, 0] = dict_text_M['Count'][str(word)]\n",
    "\n",
    "    if word in dict_text_T['Count']:\n",
    "        Counts[i, 1] = dict_text_T['Count'][str(word)]\n",
    "\n",
    "Counts[:, 2] = Counts[:, 0] + Counts[:, 1]\n",
    "\n",
    "data = {\n",
    "    'Words': complete_list_words,\n",
    "    'Mariner': Counts[:, 0],\n",
    "    'Tempest': Counts[:, 1],\n",
    "    'Total': Counts[:, 2]\n",
    "    }\n",
    "\n",
    "df = pd.DataFrame(data)\n",
    "df"
   ]
  },
  {
   "cell_type": "markdown",
   "metadata": {},
   "source": [
    "Convention:\n",
    "- $0$ means Mariner \n",
    "- $1$ means Tempest"
   ]
  },
  {
   "cell_type": "code",
   "execution_count": 10,
   "metadata": {},
   "outputs": [
    {
     "data": {
      "text/html": [
       "<div>\n",
       "<style scoped>\n",
       "    .dataframe tbody tr th:only-of-type {\n",
       "        vertical-align: middle;\n",
       "    }\n",
       "\n",
       "    .dataframe tbody tr th {\n",
       "        vertical-align: top;\n",
       "    }\n",
       "\n",
       "    .dataframe thead th {\n",
       "        text-align: right;\n",
       "    }\n",
       "</style>\n",
       "<table border=\"1\" class=\"dataframe\">\n",
       "  <thead>\n",
       "    <tr style=\"text-align: right;\">\n",
       "      <th></th>\n",
       "      <th>Words</th>\n",
       "      <th>Mariner</th>\n",
       "      <th>Tempest</th>\n",
       "      <th>Total</th>\n",
       "      <th>P(X)</th>\n",
       "      <th>P(Y=0|X)</th>\n",
       "      <th>P(Y=1|X)</th>\n",
       "    </tr>\n",
       "  </thead>\n",
       "  <tbody>\n",
       "    <tr>\n",
       "      <th>0</th>\n",
       "      <td>trinculo</td>\n",
       "      <td>0.0</td>\n",
       "      <td>62.0</td>\n",
       "      <td>62.0</td>\n",
       "      <td>0.002832</td>\n",
       "      <td>0.000000</td>\n",
       "      <td>1.000000</td>\n",
       "    </tr>\n",
       "    <tr>\n",
       "      <th>1</th>\n",
       "      <td>killed</td>\n",
       "      <td>2.0</td>\n",
       "      <td>1.0</td>\n",
       "      <td>3.0</td>\n",
       "      <td>0.000137</td>\n",
       "      <td>0.666667</td>\n",
       "      <td>0.333333</td>\n",
       "    </tr>\n",
       "    <tr>\n",
       "      <th>2</th>\n",
       "      <td>chain</td>\n",
       "      <td>0.0</td>\n",
       "      <td>1.0</td>\n",
       "      <td>1.0</td>\n",
       "      <td>0.000046</td>\n",
       "      <td>0.000000</td>\n",
       "      <td>1.000000</td>\n",
       "    </tr>\n",
       "    <tr>\n",
       "      <th>3</th>\n",
       "      <td>huge</td>\n",
       "      <td>1.0</td>\n",
       "      <td>1.0</td>\n",
       "      <td>2.0</td>\n",
       "      <td>0.000091</td>\n",
       "      <td>0.500000</td>\n",
       "      <td>0.500000</td>\n",
       "    </tr>\n",
       "    <tr>\n",
       "      <th>4</th>\n",
       "      <td>glass</td>\n",
       "      <td>1.0</td>\n",
       "      <td>1.0</td>\n",
       "      <td>2.0</td>\n",
       "      <td>0.000091</td>\n",
       "      <td>0.500000</td>\n",
       "      <td>0.500000</td>\n",
       "    </tr>\n",
       "    <tr>\n",
       "      <th>...</th>\n",
       "      <td>...</td>\n",
       "      <td>...</td>\n",
       "      <td>...</td>\n",
       "      <td>...</td>\n",
       "      <td>...</td>\n",
       "      <td>...</td>\n",
       "      <td>...</td>\n",
       "    </tr>\n",
       "    <tr>\n",
       "      <th>3560</th>\n",
       "      <td>lazy</td>\n",
       "      <td>0.0</td>\n",
       "      <td>2.0</td>\n",
       "      <td>2.0</td>\n",
       "      <td>0.000091</td>\n",
       "      <td>0.000000</td>\n",
       "      <td>1.000000</td>\n",
       "    </tr>\n",
       "    <tr>\n",
       "      <th>3561</th>\n",
       "      <td>hogshead</td>\n",
       "      <td>0.0</td>\n",
       "      <td>1.0</td>\n",
       "      <td>1.0</td>\n",
       "      <td>0.000046</td>\n",
       "      <td>0.000000</td>\n",
       "      <td>1.000000</td>\n",
       "    </tr>\n",
       "    <tr>\n",
       "      <th>3562</th>\n",
       "      <td>bawling</td>\n",
       "      <td>0.0</td>\n",
       "      <td>1.0</td>\n",
       "      <td>1.0</td>\n",
       "      <td>0.000046</td>\n",
       "      <td>0.000000</td>\n",
       "      <td>1.000000</td>\n",
       "    </tr>\n",
       "    <tr>\n",
       "      <th>3563</th>\n",
       "      <td>refreshing</td>\n",
       "      <td>0.0</td>\n",
       "      <td>1.0</td>\n",
       "      <td>1.0</td>\n",
       "      <td>0.000046</td>\n",
       "      <td>0.000000</td>\n",
       "      <td>1.000000</td>\n",
       "    </tr>\n",
       "    <tr>\n",
       "      <th>3564</th>\n",
       "      <td>ind</td>\n",
       "      <td>0.0</td>\n",
       "      <td>1.0</td>\n",
       "      <td>1.0</td>\n",
       "      <td>0.000046</td>\n",
       "      <td>0.000000</td>\n",
       "      <td>1.000000</td>\n",
       "    </tr>\n",
       "  </tbody>\n",
       "</table>\n",
       "<p>3565 rows × 7 columns</p>\n",
       "</div>"
      ],
      "text/plain": [
       "           Words  Mariner  Tempest  Total      P(X)  P(Y=0|X)  P(Y=1|X)\n",
       "0       trinculo      0.0     62.0   62.0  0.002832  0.000000  1.000000\n",
       "1         killed      2.0      1.0    3.0  0.000137  0.666667  0.333333\n",
       "2          chain      0.0      1.0    1.0  0.000046  0.000000  1.000000\n",
       "3           huge      1.0      1.0    2.0  0.000091  0.500000  0.500000\n",
       "4          glass      1.0      1.0    2.0  0.000091  0.500000  0.500000\n",
       "...          ...      ...      ...    ...       ...       ...       ...\n",
       "3560        lazy      0.0      2.0    2.0  0.000091  0.000000  1.000000\n",
       "3561    hogshead      0.0      1.0    1.0  0.000046  0.000000  1.000000\n",
       "3562     bawling      0.0      1.0    1.0  0.000046  0.000000  1.000000\n",
       "3563  refreshing      0.0      1.0    1.0  0.000046  0.000000  1.000000\n",
       "3564         ind      0.0      1.0    1.0  0.000046  0.000000  1.000000\n",
       "\n",
       "[3565 rows x 7 columns]"
      ]
     },
     "execution_count": 10,
     "metadata": {},
     "output_type": "execute_result"
    }
   ],
   "source": [
    "p_of_X = df['Total'] / np.sum(df['Total'])\n",
    "\n",
    "p_of_M_given_X = df['Mariner'] / df['Total']\n",
    "p_of_T_given_X = df['Tempest'] / df['Total']\n",
    "\n",
    "df['P(X)'] = p_of_X\n",
    "df['P(Y=0|X)'] = p_of_M_given_X\n",
    "df['P(Y=1|X)'] = p_of_T_given_X\n",
    "\n",
    "df\n"
   ]
  },
  {
   "cell_type": "code",
   "execution_count": 11,
   "metadata": {},
   "outputs": [],
   "source": [
    "# p(y) = sum_over_x[ p(y|x)*p(x) ]\n",
    "\n",
    "p_Y_given_X = np.zeros((2, (len(complete_list_words))))\n",
    "p_Y_given_X[0, :] = df['P(Y=0|X)']\n",
    "p_Y_given_X[1, :] = df['P(Y=1|X)']\n",
    "\n",
    "p_of_Y = p_Y_given_X @ p_of_X\n",
    "# print(p_of_Y)\n",
    "# print(np.sum(p_of_Y))"
   ]
  },
  {
   "cell_type": "markdown",
   "metadata": {},
   "source": [
    "### Codewords space"
   ]
  },
  {
   "cell_type": "markdown",
   "metadata": {},
   "source": [
    "Calculation of:\n",
    "- $p(x_{tilde}|x)$\n",
    "- $p(x_{tilde}, x)$\n",
    "- $p(x_{tilde})$"
   ]
  },
  {
   "cell_type": "code",
   "execution_count": 12,
   "metadata": {},
   "outputs": [],
   "source": [
    "L = 64\n",
    "l = np.arange(L)\n",
    "l\n",
    "\n",
    "# I want to calculate P(X_tilde|X)\n",
    "\n",
    "p_Xtilde_given_X = np.random.random((L, len(df['Words'])))\n",
    "Norm = np.sum(p_Xtilde_given_X, axis=0)\n",
    "p_Xtilde_given_X = p_Xtilde_given_X / Norm\n",
    "\n",
    "p_Xtilde_and_X = p_Xtilde_given_X * np.array(df['P(X)'])\n",
    "\n",
    "p_Xtilde = np.sum(p_Xtilde_and_X, axis=1)\n",
    "\n",
    "# print('p(x_tilde|x):', '\\n', p_Xtilde_given_X, '\\n')\n",
    "# print('p(x_tilde, x):', '\\n', p_Xtilde_and_X, '\\n')\n",
    "# print('p(x_tilde):', '\\n', p_Xtilde, '\\n')\n",
    "\n"
   ]
  },
  {
   "cell_type": "markdown",
   "metadata": {},
   "source": [
    "Calculation of $p(x|x_{tilde})$"
   ]
  },
  {
   "cell_type": "code",
   "execution_count": 13,
   "metadata": {},
   "outputs": [],
   "source": [
    "# p(X|X_tilda) = [p(X_tilda|X) * p(X)] / p(X_tilda) = p(X, X_tilda) / p(X_tilde)\n",
    "\n",
    "p_X_given_Xtilde = p_Xtilde_and_X.T / p_Xtilde\n"
   ]
  },
  {
   "cell_type": "markdown",
   "metadata": {},
   "source": [
    "Calculation of $p(y|x_{tilde})$"
   ]
  },
  {
   "cell_type": "code",
   "execution_count": 14,
   "metadata": {},
   "outputs": [],
   "source": [
    "# calculate p(y|x_tilde) = sum_over_x [ p(y|x) * p(x|x_tilde)]\n",
    "\n",
    "p_Y_given_Xtilde = p_Y_given_X @ p_X_given_Xtilde"
   ]
  },
  {
   "cell_type": "markdown",
   "metadata": {},
   "source": [
    "Calculation of $D_{KL}(p(y|x)||p(y|x_{tilde}))$"
   ]
  },
  {
   "cell_type": "code",
   "execution_count": 15,
   "metadata": {},
   "outputs": [],
   "source": [
    "#KL divergence D_KL( p(y|x) || p(y|x_tilde)) used as distortion function d(x, x_tilde)\n",
    "\n",
    "def Distance_KL(P_Y_given_X, P_Y_given_Xtilde):\n",
    "\n",
    "    d_KL = np.zeros((len(complete_list_words), L))\n",
    "\n",
    "    epsilon = 1e-20\n",
    "\n",
    "    for x in range(d_KL.shape[0]):\n",
    "        for x_tilde in range(d_KL.shape[1]):\n",
    "\n",
    "            log_arg = ( P_Y_given_X[:, x] ) / ( P_Y_given_Xtilde[:, x_tilde]+epsilon ) + epsilon\n",
    "\n",
    "            d_KL[x, x_tilde] = np.sum(P_Y_given_X[:, x] * np.log(log_arg))\n",
    "\n",
    "    return d_KL\n",
    "\n",
    "D_KL = Distance_KL(p_Y_given_X, p_Y_given_Xtilde)\n"
   ]
  },
  {
   "cell_type": "code",
   "execution_count": 16,
   "metadata": {},
   "outputs": [],
   "source": [
    "def Shannon_entropy(prob):\n",
    "\n",
    "    epsilon = 1e-20\n",
    "    \n",
    "    info = np.log2(prob + epsilon)\n",
    "    H = -np.sum(prob*info)\n",
    "\n",
    "    return H"
   ]
  },
  {
   "cell_type": "markdown",
   "metadata": {},
   "source": [
    "### Information bottleneck iterative algorithm "
   ]
  },
  {
   "cell_type": "markdown",
   "metadata": {},
   "source": [
    "![Descrizione dell'immagine](Algoritmo.png)\n"
   ]
  },
  {
   "cell_type": "code",
   "execution_count": 17,
   "metadata": {},
   "outputs": [
    {
     "name": "stdout",
     "output_type": "stream",
     "text": [
      "-----  Step 0  -----\n",
      "I(X, X_tilde): 0.2751104 \n",
      "\n",
      "I(Y, X_tilde): 0.0001089 \n",
      "\n",
      "-----  Step 1  -----\n",
      "-----  Step 2  -----\n",
      "-----  Step 3  -----\n",
      "-----  Step 4  -----\n",
      "-----  Step 5  -----\n",
      "-----  Step 6  -----\n",
      "-----  Step 7  -----\n",
      "-----  Step 8  -----\n",
      "-----  Step 9  -----\n",
      "-----  Step 10  -----\n",
      "-----  Step 11  -----\n",
      "-----  Step 12  -----\n",
      "-----  Step 13  -----\n",
      "-----  Step 14  -----\n",
      "-----  Step 15  -----\n",
      "I(X, X_tilde): 0.5386256 \n",
      "\n",
      "I(Y, X_tilde): 0.1454879 \n",
      "\n"
     ]
    }
   ],
   "source": [
    "# approximation to print the output\n",
    "app = 7\n",
    "\n",
    "# Calculate the mutual information I(X: Xtile)\n",
    "H_X = Shannon_entropy(p_of_X)\n",
    "H_Xtilde = Shannon_entropy(p_Xtilde)\n",
    "H_X_Xtilde = Shannon_entropy(p_Xtilde_and_X)\n",
    "I_X_Xtilde = H_X + H_Xtilde - H_X_Xtilde\n",
    "\n",
    "# Calculate the mutual information I(Y: Xtile)\n",
    "H_Y = Shannon_entropy(p_of_Y)\n",
    "p_Y_and_Xtilde = p_Y_given_Xtilde * p_Xtilde\n",
    "H_Y_Xtilde = Shannon_entropy(p_Y_and_Xtilde)\n",
    "I_Y_Xtilde = H_Y + H_Xtilde - H_Y_Xtilde\n",
    "\n",
    "# hyperparameters\n",
    "time_steps = 16\n",
    "beta = 8\n",
    "\n",
    "\n",
    "# check behaviour\n",
    "I_X_Xtilde_list = [I_X_Xtilde]\n",
    "I_Y_Xtilde_list = [I_Y_Xtilde]\n",
    "\n",
    "\n",
    "# at time step = 0\n",
    "print('-----  Step ' + str(0) + '  -----')\n",
    "\n",
    "# print('p_Xtilde_given_X:', '\\n', np.round(p_Xtilde_given_X, app), '\\n')\n",
    "# print('p_Xtilde:', '\\n', np.round(p_Xtilde, app), '\\n')\n",
    "# print('p_Xtilde_and_X:', '\\n', np.round(p_Xtilde_and_X, app), '\\n')\n",
    "# print('p_Y_given_Xtilde:', '\\n', np.round(p_Y_given_Xtilde, app), '\\n')\n",
    "\n",
    "print('I(X, X_tilde):', np.round(I_X_Xtilde, app), '\\n')\n",
    "print('I(Y, X_tilde):', np.round(I_Y_Xtilde, app), '\\n')\n",
    "\n",
    "\n",
    "# next time steps\n",
    "\n",
    "for t in np.arange(1, time_steps):\n",
    "\n",
    "    # first equation\n",
    "    p_Xtilde_matrix = np.tile(p_Xtilde, (len(df['Words']), 1)).T\n",
    "    p_Xtilde_given_X = p_Xtilde_matrix * np.exp(-beta * Distance_KL(p_Y_given_X, p_Y_given_Xtilde).T)\n",
    "    Z = np.sum(p_Xtilde_given_X, axis=0)\n",
    "    p_Xtilde_given_X = p_Xtilde_given_X / np.array(Z)\n",
    "\n",
    "    # second equation\n",
    "    p_Xtilde = p_Xtilde_given_X @ p_of_X\n",
    "\n",
    "    # third equation\n",
    "    p_Xtilde_and_X = p_Xtilde_given_X * np.array(df['P(X)'])\n",
    "    p_X_given_Xtilde = p_Xtilde_and_X.T / p_Xtilde\n",
    "    p_Y_given_Xtilde = p_Y_given_X @ p_X_given_Xtilde\n",
    "\n",
    "    # check mutual information I(X: Xtile)\n",
    "    H_X = Shannon_entropy(p_of_X)\n",
    "    H_Xtilde = Shannon_entropy(p_Xtilde)\n",
    "    H_X_Xtilde = Shannon_entropy(p_Xtilde_and_X)\n",
    "    I_X_Xtilde = H_X + H_Xtilde - H_X_Xtilde\n",
    "\n",
    "    # check mutual information I(Y: Xtile)\n",
    "    H_Y = Shannon_entropy(p_of_Y)\n",
    "    p_Y_and_Xtilde = p_Y_given_Xtilde * p_Xtilde\n",
    "    H_Y_Xtilde = Shannon_entropy(p_Y_and_Xtilde)\n",
    "    I_Y_Xtilde = H_Y + H_Xtilde - H_Y_Xtilde\n",
    "\n",
    "    # update list\n",
    "    I_X_Xtilde_list.append(I_X_Xtilde)\n",
    "    I_Y_Xtilde_list.append(I_Y_Xtilde)\n",
    "    \n",
    "\n",
    "    print('-----  Step ' + str(t) + '  -----')\n",
    "\n",
    "    if t==time_steps-1:\n",
    "        # print informations\n",
    "                \n",
    "        # print('p_Xtilde_given_X:', '\\n', np.round(p_Xtilde_given_X, app), '\\n')\n",
    "        # print('p_Xtilde:', '\\n', np.round(p_Xtilde, app), '\\n')\n",
    "        # print('p_Xtilde_and_X:', '\\n', np.round(p_Xtilde_and_X, app), '\\n')\n",
    "        # print('p_Y_given_Xtilde:', '\\n', np.round(p_Y_given_Xtilde, app), '\\n')\n",
    "\n",
    "        print('I(X, X_tilde):', np.round(I_X_Xtilde, app), '\\n')\n",
    "        print('I(Y, X_tilde):', np.round(I_Y_Xtilde, app), '\\n')\n"
   ]
  },
  {
   "cell_type": "code",
   "execution_count": 18,
   "metadata": {},
   "outputs": [],
   "source": [
    "# Calculate the mutual information I(Y: X)\n",
    "\n",
    "p_Y_and_X = p_Y_given_X * np.array(p_of_X)\n",
    "H_Y_X = Shannon_entropy(p_Y_and_X)\n",
    "I_Y_X = H_Y + H_X - H_Y_X"
   ]
  },
  {
   "cell_type": "code",
   "execution_count": 19,
   "metadata": {},
   "outputs": [
    {
     "data": {
      "image/png": "[encoded data removed]",
      "text/plain": [
       "<Figure size 1200x500 with 2 Axes>"
      ]
     },
     "metadata": {},
     "output_type": "display_data"
    }
   ],
   "source": [
    "\n",
    "x = np.arange(time_steps)\n",
    "title = 'L=' + str(L) + '  beta=' + str(beta)\n",
    "\n",
    "fig, (ax1, ax2) = plt.subplots(1, 2, figsize=(12, 5))\n",
    "\n",
    "# Graph 1\n",
    "ax1.plot(x, I_X_Xtilde_list, marker='o', linestyle='-', color='g', label='I(X:X_tilde)')\n",
    "ax1.plot(x, I_Y_Xtilde_list, marker='o', linestyle='-', color='b', label='I(Y:X_tilde)')\n",
    "\n",
    "ax1.set_yscale('log')\n",
    "ax1.set_xlabel('Time')\n",
    "ax1.set_ylabel('Mutual information')\n",
    "ax1.set_title(title)\n",
    "ax1.legend()\n",
    "ax1.grid(True)\n",
    "\n",
    "# Graph 2\n",
    "ax2.plot(x, I_Y_Xtilde_list, marker='o', linestyle='-', color='b', label='I(Y:X_tilde)')\n",
    "ax2.axhline(y=I_Y_X, color='r', linestyle='--', label='I(Y:X)')\n",
    "\n",
    "ax2.set_yscale('log')\n",
    "ax2.set_xlabel('Time')\n",
    "ax2.set_ylabel('Mutual information')\n",
    "ax2.set_title(title)\n",
    "ax2.legend()\n",
    "ax2.grid(True)\n",
    "\n",
    "plt.tight_layout()\n",
    "\n",
    "plt.show()"
   ]
  }
 ],
 "metadata": {
  "colab": {
   "authorship_tag": "ABX9TyNbuXaBa2j42JnmOPE61V8i",
   "provenance": []
  },
  "kernelspec": {
   "display_name": "Python 3 (ipykernel)",
   "language": "python",
   "name": "python3"
  },
  "language_info": {
   "codemirror_mode": {
    "name": "ipython",
    "version": 3
   },
   "file_extension": ".py",
   "mimetype": "text/x-python",
   "name": "python",
   "nbconvert_exporter": "python",
   "pygments_lexer": "ipython3",
   "version": "3.10.12"
  }
 },
 "nbformat": 4,
 "nbformat_minor": 1
}
